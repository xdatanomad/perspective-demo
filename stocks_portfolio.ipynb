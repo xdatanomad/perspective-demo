{
 "cells": [
  {
   "cell_type": "markdown",
   "metadata": {},
   "source": [
    "# Stock Portfolio Simulation"
   ]
  },
  {
   "cell_type": "code",
   "execution_count": null,
   "metadata": {},
   "outputs": [],
   "source": [
    "from csp_stocks import load_stock_data\n",
    "from perspective.widget import PerspectiveWidget\n",
    "\n",
    "# Load the stock CSV data\n",
    "csv_path = r\"./data/social_media_stocks_2012-2022.final.csv\"\n",
    "df = load_stock_data(csv_path)\n",
    "\n",
    "stock_widget = PerspectiveWidget(df, index=\"ticker\", sort=[\"date\"])\n",
    "\n",
    "# Display the widget in Jupyter Notebook\n",
    "stock_widget\n",
    "\n"
   ]
  },
  {
   "cell_type": "code",
   "execution_count": null,
   "metadata": {},
   "outputs": [],
   "source": [
    "import csp\n",
    "from csp_stocks import load_stock_data, stock_data_stream, push_to_perspective, STOCKS_SCHEMA\n",
    "from perspective.widget import PerspectiveWidget\n",
    "from datetime import timedelta\n",
    "from pprint import pprint\n",
    "\n",
    "# Load the stock CSV data\n",
    "csv_path = \"data/social_media_stocks_2012-2022.final.csv\"\n",
    "df = load_stock_data(csv_path)\n",
    "data = df.to_dict(orient='records')\n",
    "\n",
    "# Create a PerspectiveWidget\n",
    "stock_widget = PerspectiveWidget(STOCKS_SCHEMA, index=\"ticker\", sort=[[\"date\", \"asc\"]])\n",
    "\n",
    "# Display the widget in Jupyter Notebook\n",
    "stock_widget\n",
    "\n",
    "# Define the CSP graph that simulates the stock data stream\n",
    "@csp.graph\n",
    "def main_graph(stock_widget: PerspectiveWidget):\n",
    "    # Create a stream of stock data\n",
    "    stock_stream = stock_data_stream(data, timedelta(seconds=.01))\n",
    "    \n",
    "    # Push the stream to the Perspective widget\n",
    "    push_to_perspective(stock_stream, stock_widget)\n",
    "\n",
    "# Run the graph in real-time and stream the data to the widget\n",
    "csp.run_on_thread(main_graph, stock_widget, realtime=True, daemon=True)\n"
   ]
  },
  {
   "cell_type": "code",
   "execution_count": null,
   "metadata": {},
   "outputs": [],
   "source": [
    "stock_widget"
   ]
  }
 ],
 "metadata": {
  "kernelspec": {
   "display_name": "Python 3 (ipykernel)",
   "language": "python",
   "name": "python3"
  },
  "language_info": {
   "codemirror_mode": {
    "name": "ipython",
    "version": 3
   },
   "file_extension": ".py",
   "mimetype": "text/x-python",
   "name": "python",
   "nbconvert_exporter": "python",
   "pygments_lexer": "ipython3",
   "version": "3.12.6"
  }
 },
 "nbformat": 4,
 "nbformat_minor": 4
}
