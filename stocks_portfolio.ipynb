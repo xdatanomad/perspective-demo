{
 "cells": [
  {
   "cell_type": "markdown",
   "metadata": {},
   "source": [
    "# Stock Portfolio Simulation"
   ]
  },
  {
   "cell_type": "markdown",
   "metadata": {},
   "source": [
    "## Static Perspective Widget\n",
    "\n",
    "Load the entire stocks CSV data file and load it into interactive Perspective Viewer\n",
    "\n",
    "- Data is static via pandas dataframe\n",
    "- Perspective jupyter widget is loaded"
   ]
  },
  {
   "cell_type": "code",
   "execution_count": null,
   "metadata": {},
   "outputs": [],
   "source": [
    "import pandas as pd\n",
    "from perspective.widget import PerspectiveWidget\n",
    "\n",
    "# Load the stock CSV data\n",
    "datafile = r\"./data/social_media_stocks_2012-2022.final.csv\"\n",
    "df = pd.read_csv(datafile)\n",
    "\n",
    "stock_widget = PerspectiveWidget(df, index=\"ticker\", sort=[\"date\"])\n",
    "\n",
    "# Display the widget in Jupyter Notebook\n",
    "stock_widget"
   ]
  },
  {
   "cell_type": "markdown",
   "metadata": {},
   "source": [
    "## Streaming Perspective Viewer\n",
    "\n",
    "Now, we stream data from the CSV file day-by-day sing the `DemoDataStreamPlayer` helper class. This class simply only update Perspective Viewer with a single day frame of data from the CSV file."
   ]
  },
  {
   "cell_type": "code",
   "execution_count": null,
   "metadata": {},
   "outputs": [],
   "source": [
    "from stocks_utils import STOCKS_SCHEMA, DemoDataStreamPlayer\n",
    "from perspective.widget import PerspectiveWidget\n",
    "\n",
    "# stock data file path\n",
    "datafile = \"data/social_media_stocks_2012-2022.final.csv\"\n",
    "\n",
    "# Create a PerspectiveWidget\n",
    "stock_widget = PerspectiveWidget(STOCKS_SCHEMA, index=\"ticker\", sort=[[\"date\", \"asc\"]])\n",
    "# load demo data\n",
    "demo = DemoDataStreamPlayer(\n",
    "    data_filepath=datafile,\n",
    "    widget=stock_widget,\n",
    "    interval=0.005,\n",
    ")\n",
    "# run to play the data frame-by-frame\n",
    "demo.start()\n",
    "\n",
    "# display the widget\n",
    "stock_widget"
   ]
  },
  {
   "cell_type": "code",
   "execution_count": 2,
   "metadata": {},
   "outputs": [],
   "source": [
    "demo.interval = 0.05"
   ]
  }
 ],
 "metadata": {
  "kernelspec": {
   "display_name": "Python 3 (ipykernel)",
   "language": "python",
   "name": "python3"
  },
  "language_info": {
   "codemirror_mode": {
    "name": "ipython",
    "version": 3
   },
   "file_extension": ".py",
   "mimetype": "text/x-python",
   "name": "python",
   "nbconvert_exporter": "python",
   "pygments_lexer": "ipython3",
   "version": "3.12.6"
  }
 },
 "nbformat": 4,
 "nbformat_minor": 4
}
