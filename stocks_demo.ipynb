{
 "cells": [
  {
   "cell_type": "markdown",
   "metadata": {},
   "source": [
    "# Stock Portfolio Simulation"
   ]
  },
  {
   "cell_type": "markdown",
   "metadata": {},
   "source": [
    "## Static Perspective Widget\n",
    "\n",
    "Load the entire stocks CSV data file and load it into interactive Perspective Viewer\n",
    "\n",
    "- Data is static via pandas dataframe\n",
    "- Perspective jupyter widget is loaded"
   ]
  },
  {
   "cell_type": "code",
   "execution_count": null,
   "metadata": {},
   "outputs": [],
   "source": [
    "import pandas as pd\n",
    "from perspective.widget import PerspectiveWidget\n",
    "\n",
    "# Load the stock CSV data\n",
    "datafile = r\"./data/social_media_stocks_2012-2022.final.csv\"\n",
    "df = pd.read_csv(datafile)\n",
    "\n",
    "stock_widget = PerspectiveWidget(df, index=\"ticker\", sort=[\"date\"])\n",
    "\n",
    "# Display the widget in Jupyter Notebook\n",
    "stock_widget"
   ]
  },
  {
   "cell_type": "markdown",
   "metadata": {},
   "source": [
    "## Streaming Perspective Viewer\n",
    "\n",
    "Now, we stream data from the CSV file day-by-day sing the `DemoDataStreamPlayer` helper class. This class simply only update Perspective Viewer with a single day frame of data from the CSV file."
   ]
  },
  {
   "cell_type": "markdown",
   "metadata": {},
   "source": [
    "#### Stock Prices Simulator"
   ]
  },
  {
   "cell_type": "code",
   "execution_count": null,
   "metadata": {},
   "outputs": [],
   "source": [
    "from stocks_utils import STOCKS_SCHEMA, DemoDataStreamPlayer\n",
    "from perspective.widget import PerspectiveWidget\n",
    "\n",
    "# stock data file path\n",
    "datafile = \"data/social_media_stocks_2012-2022.final.csv\"\n",
    "\n",
    "# Create a PerspectiveWidget\n",
    "stock_widget = PerspectiveWidget(STOCKS_SCHEMA, index=\"ticker\", sort=[[\"date\", \"asc\"]])\n",
    "# load demo data\n",
    "demo = DemoDataStreamPlayer(\n",
    "    data_filepath=datafile,\n",
    "    widget=stock_widget,\n",
    "    interval=0.005,\n",
    ")\n",
    "# run to play the data frame-by-frame\n",
    "demo.start()\n",
    "\n",
    "# display the widget\n",
    "stock_widget"
   ]
  },
  {
   "cell_type": "markdown",
   "metadata": {},
   "source": [
    "#### Daily Trades Simulator"
   ]
  },
  {
   "cell_type": "code",
   "execution_count": null,
   "metadata": {},
   "outputs": [],
   "source": [
    "from stocks_utils import TRADES_SCHEMA, DemoDataStreamPlayer\n",
    "from perspective.widget import PerspectiveWidget\n",
    "\n",
    "# stock data file path\n",
    "datafile = \"data/tech_trades.csv\"\n",
    "\n",
    "# Create a PerspectiveWidget\n",
    "stock_widget = PerspectiveWidget(TRADES_SCHEMA, index=\"ticker\", sort=[[\"trade_timestamp\", \"asc\"]], theme=\"Dracula\", group_by=[\"broker\"])\n",
    "# load demo data\n",
    "demo = DemoDataStreamPlayer(\n",
    "    data_filepath=datafile,\n",
    "    widget=stock_widget,\n",
    "    interval=0.01,\n",
    ")\n",
    "# run to play the data frame-by-frame\n",
    "demo.start()\n",
    "\n",
    "# display the widget\n",
    "stock_widget"
   ]
  },
  {
   "cell_type": "code",
   "execution_count": 1,
   "metadata": {},
   "outputs": [
    {
     "name": "stdout",
     "output_type": "stream",
     "text": [
      "\u001b[33m WARN\u001b[0m \u001b[2mperspective_server::local_client\u001b[0m\u001b[2m:\u001b[0m `Session` dropped before init\n",
      "data min: 2012-01-03  max: 2018-08-24\n"
     ]
    },
    {
     "data": {
      "application/vnd.jupyter.widget-view+json": {
       "model_id": "affc89fa23c148bf8b20c4a14c3206a6",
       "version_major": 2,
       "version_minor": 0
      },
      "text/plain": [
       "PerspectiveWidget(aggregates={'broker': 'first', 'shares': 'sum', 'trade_value': 'sum'}, binding_mode='server'…"
      ]
     },
     "execution_count": 1,
     "metadata": {},
     "output_type": "execute_result"
    }
   ],
   "source": [
    "from stocks_utils import TRADES_SCHEMA, DemoDataStreamPlayer\n",
    "from perspective.widget import PerspectiveWidget\n",
    "\n",
    "# stock data file path\n",
    "datafile = \"data/tech_trades.csv\"\n",
    "\n",
    "# Create a PerspectiveWidget\n",
    "stock_widget = PerspectiveWidget(\n",
    "    TRADES_SCHEMA, \n",
    "    index=\"ticker\",\n",
    "    # plugin=\"Y Bar\",\n",
    "    group_by=[\"broker\"],\n",
    "    columns=[\"broker\", \"shares\", \"trade_value\"],\n",
    "    aggregates={\"broker\": \"first\", \"shares\": \"sum\", \"trade_value\": \"sum\"},\n",
    "    sort=[[\"broker\", \"asc\"]],\n",
    "    theme=\"Dracula\",\n",
    "    settings=True,\n",
    "    )\n",
    "# load demo data\n",
    "demo = DemoDataStreamPlayer(\n",
    "    data_filepath=datafile,\n",
    "    widget=stock_widget,\n",
    "    interval=0.01,\n",
    ")\n",
    "# run to play the data frame-by-frame\n",
    "demo.start()\n",
    "\n",
    "# display the widget\n",
    "stock_widget"
   ]
  },
  {
   "cell_type": "code",
   "execution_count": 2,
   "metadata": {},
   "outputs": [],
   "source": [
    "demo.interval = 0.05"
   ]
  }
 ],
 "metadata": {
  "kernelspec": {
   "display_name": "Python 3 (ipykernel)",
   "language": "python",
   "name": "python3"
  },
  "language_info": {
   "codemirror_mode": {
    "name": "ipython",
    "version": 3
   },
   "file_extension": ".py",
   "mimetype": "text/x-python",
   "name": "python",
   "nbconvert_exporter": "python",
   "pygments_lexer": "ipython3",
   "version": "3.12.6"
  }
 },
 "nbformat": 4,
 "nbformat_minor": 4
}
