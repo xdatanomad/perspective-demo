{
 "cells": [
  {
   "cell_type": "markdown",
   "metadata": {},
   "source": [
    "# Stock Trading Portfolio App Simulation"
   ]
  },
  {
   "cell_type": "markdown",
   "metadata": {},
   "source": [
    "## Static Perspective Widget\n",
    "\n",
    "Load the entire stocks CSV data file and load it into interactive Perspective Viewer\n",
    "\n",
    "- Data is static via pandas dataframe\n",
    "- Perspective jupyter widget is loaded"
   ]
  },
  {
   "cell_type": "code",
   "execution_count": 1,
   "metadata": {},
   "outputs": [],
   "source": [
    "import pandas as pd\n",
    "\n",
    "# Load the stock CSV data\n",
    "datafile = r\"./data/tech_trades.csv\"\n",
    "df = pd.read_csv(datafile, nrows=500_000)"
   ]
  },
  {
   "cell_type": "markdown",
   "metadata": {},
   "source": [
    "#### Traditional way using `plotly`\n",
    "\n",
    "Graphing trades over time using plotly what typical data science users do. Interactive(ish!)."
   ]
  },
  {
   "cell_type": "code",
   "execution_count": null,
   "metadata": {},
   "outputs": [],
   "source": [
    "import plotly.graph_objs as go\n",
    "import plotly.io as pio\n",
    "\n",
    "# Plotting the wave and amps using Plotly\n",
    "pio.templates.default = 'plotly_dark'\n",
    "fig = go.Figure()\n",
    "\n",
    "# iterate through tickers and graphs each with line charts\n",
    "tickers = list(df['ticker'].unique())\n",
    "for ticker in tickers:      \n",
    "    # Add the wave trace\n",
    "    xdf = df[df['ticker'] == ticker][['date', 'ticker', 'close']]\n",
    "    fig.add_trace(go.Scatter(x=xdf['date'], y=xdf['close'], mode='lines', name=ticker))\n",
    "\n",
    "fig.show()"
   ]
  },
  {
   "cell_type": "markdown",
   "metadata": {},
   "source": [
    "#### Interactive Perspective View\n",
    "\n",
    "Slicing and dicing data using _Tableau-like_ perspective viewer."
   ]
  },
  {
   "cell_type": "code",
   "execution_count": null,
   "metadata": {},
   "outputs": [],
   "source": [
    "from perspective.widget import PerspectiveWidget\n",
    "\n",
    "perspective_view = PerspectiveWidget(df, theme=\"Dracula\")\n",
    "# Display the widget in Jupyter Notebook\n",
    "perspective_view"
   ]
  },
  {
   "cell_type": "markdown",
   "metadata": {},
   "source": [
    "Adding view pre-configuration. \n",
    "- User preferences can be saved/restored from a JSON database."
   ]
  },
  {
   "cell_type": "code",
   "execution_count": null,
   "metadata": {},
   "outputs": [],
   "source": [
    "import pandas as pd\n",
    "from perspective.widget import PerspectiveWidget\n",
    "\n",
    "# Load the stock CSV data\n",
    "datafile = r\"./data/tech_trades.csv\"\n",
    "df = pd.read_csv(datafile, nrows=500_000)\n",
    "\n",
    "perspective_view = PerspectiveWidget(df, columns=[\"ticker\", \"broker\", \"bid_price\", \"shares\", \"trade_value\"], theme=\"Dracula\")\n",
    "\n",
    "# Display the widget in Jupyter Notebook\n",
    "perspective_view"
   ]
  },
  {
   "cell_type": "markdown",
   "metadata": {},
   "source": [
    "## Streaming Perspective Viewer\n",
    "\n",
    "Now, we stream data from the CSV file day-by-day sing the `DemoDataStreamPlayer` helper class. This class simply only update Perspective Viewer with a single day frame of data from the CSV file."
   ]
  },
  {
   "cell_type": "code",
   "execution_count": null,
   "metadata": {},
   "outputs": [],
   "source": [
    "from stocks_utils import TRADES_SCHEMA, DemoDataStreamPlayer\n",
    "from perspective.widget import PerspectiveWidget\n",
    "\n",
    "# stock data file path\n",
    "datafile = \"data/tech_trades.csv\"\n",
    "\n",
    "# Create a PerspectiveWidget\n",
    "view1 = PerspectiveWidget(\n",
    "    TRADES_SCHEMA, \n",
    "    index=\"ticker\", \n",
    "    sort=[[\"shares\", \"asc\"]], \n",
    "    theme=\"Dracula\", \n",
    "    group_by=[\"ticker\"],\n",
    "    aggregates={\"broker\": \"first\"},\n",
    "    )\n",
    "# load demo data\n",
    "demo = DemoDataStreamPlayer(\n",
    "    data_filepath=datafile,\n",
    "    widgets=view1,\n",
    "    interval=0.01,\n",
    ")\n",
    "# run to play the data frame-by-frame\n",
    "demo.start()\n",
    "\n",
    "# display the widget\n",
    "view1"
   ]
  },
  {
   "cell_type": "markdown",
   "metadata": {},
   "source": [
    "#### Multiple Refreshing Windows"
   ]
  },
  {
   "cell_type": "code",
   "execution_count": null,
   "metadata": {},
   "outputs": [],
   "source": [
    "from stocks_utils import TRADES_SCHEMA, DemoDataStreamPlayer\n",
    "from perspective.widget import PerspectiveWidget\n",
    "from ipywidgets import VBox, HBox\n",
    "\n",
    "\n",
    "# stock data file path\n",
    "datafile = \"data/tech_trades.csv\"\n",
    "\n",
    "# Create a PerspectiveWidget\n",
    "v1 = PerspectiveWidget(\n",
    "    TRADES_SCHEMA, \n",
    "    index=\"ticker\",\n",
    "    plugin=\"Y Area\",\n",
    "    group_by=[\"ticker\"],\n",
    "    split_by=[\"broker\"],\n",
    "    columns=[\"ticker\", \"broker\", \"shares\", \"trade_value\"],\n",
    "    aggregates={\"broker\": \"last\", \"shares\": \"sum\", \"trade_value\": \"sum\"},\n",
    "    sort=[[\"ticker\", \"asc\"]],\n",
    "    theme=\"Dracula\",\n",
    "    settings=False,\n",
    "    )\n",
    "# Create a PerspectiveWidget\n",
    "v2 = PerspectiveWidget(\n",
    "    TRADES_SCHEMA, \n",
    "    index=\"ticker\",\n",
    "    plugin=\"Heatmap\",\n",
    "    group_by=[\"ticker\"],\n",
    "    split_by=[\"broker\"],\n",
    "    columns=[\"ticker\", \"broker\", \"shares\", \"trade_value\"],\n",
    "    aggregates={\"broker\": \"last\", \"shares\": \"sum\", \"trade_value\": \"sum\"},\n",
    "    sort=[[\"ticker\", \"asc\"]],\n",
    "    theme=\"Dracula\",\n",
    "    settings=False,\n",
    "    )\n",
    "# load demo data\n",
    "demo = DemoDataStreamPlayer(\n",
    "    data_filepath=datafile,\n",
    "    widgets=[v1, v2],\n",
    "    interval=0.01,\n",
    ")\n",
    "# run to play the data frame-by-frame\n",
    "demo.start()\n",
    "\n",
    "# display the widget\n",
    "HBox(children=[v1, v2])"
   ]
  }
 ],
 "metadata": {
  "kernelspec": {
   "display_name": "Python 3 (ipykernel)",
   "language": "python",
   "name": "python3"
  },
  "language_info": {
   "codemirror_mode": {
    "name": "ipython",
    "version": 3
   },
   "file_extension": ".py",
   "mimetype": "text/x-python",
   "name": "python",
   "nbconvert_exporter": "python",
   "pygments_lexer": "ipython3",
   "version": "3.12.6"
  }
 },
 "nbformat": 4,
 "nbformat_minor": 4
}
