{
 "cells": [
  {
   "cell_type": "code",
   "execution_count": 1,
   "metadata": {},
   "outputs": [
    {
     "name": "stdout",
     "output_type": "stream",
     "text": [
      "\u001b[33m WARN\u001b[0m \u001b[2mperspective_server::local_client\u001b[0m\u001b[2m:\u001b[0m `Session` dropped before init\n"
     ]
    }
   ],
   "source": [
    "from datetime import date, datetime\n",
    "import numpy as np\n",
    "import pandas as pd\n",
    "import perspective\n",
    "\n",
    "data = pd.DataFrame({\n",
    "    \"int\": np.arange(100),\n",
    "    \"float\": [i * 1.5 for i in range(100)],\n",
    "    \"bool\": [True for i in range(100)],\n",
    "    \"date\": [date.today() for i in range(100)],\n",
    "    \"datetime\": [datetime.now() for i in range(100)],\n",
    "    \"string\": [str(i) for i in range(100)]\n",
    "})\n",
    "\n",
    "table = perspective.table(data, index=\"float\")\n",
    "# table = perspective.Table(data, index=\"float\")"
   ]
  },
  {
   "cell_type": "code",
   "execution_count": 3,
   "metadata": {},
   "outputs": [],
   "source": [
    "view = table.view(group_by=[\"float\"], filter=[[\"bool\", \"==\", True]])\n",
    "# column_data = view.to_dict()\n",
    "# row_data = view.to_records()\n",
    "# dir(table)\n",
    "# print(table.schema())"
   ]
  }
 ],
 "metadata": {
  "kernelspec": {
   "display_name": "venv",
   "language": "python",
   "name": "python3"
  },
  "language_info": {
   "codemirror_mode": {
    "name": "ipython",
    "version": 3
   },
   "file_extension": ".py",
   "mimetype": "text/x-python",
   "name": "python",
   "nbconvert_exporter": "python",
   "pygments_lexer": "ipython3",
   "version": "3.12.6"
  }
 },
 "nbformat": 4,
 "nbformat_minor": 2
}
