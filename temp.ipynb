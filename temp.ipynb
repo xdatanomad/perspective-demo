{
 "cells": [
  {
   "cell_type": "markdown",
   "metadata": {},
   "source": [
    "# Jupyter Notebook"
   ]
  },
  {
   "cell_type": "code",
   "execution_count": null,
   "metadata": {},
   "outputs": [],
   "source": [
    "import pandas as pd\n",
    "from perspective.widget import PerspectiveWidget\n",
    "\n",
    "# Load data using pandas\n",
    "stock_data = pd.read_csv(r\"data/social_media_stocks.csv\")\n",
    "\n",
    "# create a perspective viz widget\n",
    "stock_widget = PerspectiveWidget(stock_data, index=\"date\", sort=[\"date\"])\n",
    "\n",
    "# Display the interactive widget\n",
    "stock_widget"
   ]
  },
  {
   "cell_type": "code",
   "execution_count": 21,
   "metadata": {},
   "outputs": [
    {
     "name": "stdout",
     "output_type": "stream",
     "text": [
      "2020-01-07,2020,ETSY,45.779999,45.779999,46.119999,44.900002,45.0,1945500,74.2031,0.482,45.952,-22.1489,49977.85,53081.25\n",
      "2020-01-07,2020,FB,213.059998,213.059998,214.580002,211.75,212.820007,14912400,195.6716,-0.568,212.0269,120.4313,50120.43,53050.5\n",
      "2020-01-07,2020,PINS,19.26,19.26,19.42,18.76,18.879999,7471500,86.0898,0.0373,19.0329,-0.7099,49999.29,53081.33\n",
      "2020-01-07,2020,SNAP,17.030001,17.030001,17.065001,16.549999,16.870001,21146400,-35.5968,-0.368,16.6127,6.1135,50006.11,53066.26\n",
      "2020-01-07,2020,TWTR,32.540001,32.540001,32.700001,31.719999,31.799999,13712900,218.9616,0.0117,32.3344,-0.3783,49999.62,53263.7\n",
      "2020-01-08,2020,ETSY,45.005001,45.005001,46.619999,44.875,45.84,3222700,74.6822,0.4791,45.3269,-21.7161,49978.28,53227.75\n",
      "2020-01-08,2020,FB,215.220001,215.220001,216.240005,212.610001,213.0,13475000,195.0979,-0.5737,213.0887,122.249,50122.25,53526.93\n",
      "2020-01-08,2020,PINS,19.719999,19.719999,19.98,19.115,19.25,7363500,86.1369,0.0471,19.261,-0.9072,49999.09,53567.46\n",
      "2020-01-08,2020,SNAP,16.67,16.67,17.01,16.65,16.98,15600900,-35.9222,-0.3254,16.907,5.5015,50005.5,53574.85\n",
      "2020-01-08,2020,TWTR,33.049999,33.049999,33.400002,32.349998,32.349998,14632400,218.9718,0.0102,32.7232,-0.3338,49999.67,53686.86\n"
     ]
    }
   ],
   "source": [
    "import pandas as pd\n",
    "import numpy as np\n",
    "from datetime import date\n",
    "from pprint import pprint\n",
    "\n",
    "\n",
    "df = pd.read_csv(\n",
    "    r\"data/social_media_stocks_2012-2022.final.csv\",\n",
    "    header=0,\n",
    "    )\n",
    "\n",
    "df = df[df['date'].isin(['2020-01-07', '2020-01-08'])]\n",
    "\n",
    "d = df.to_dict(orient='records')\n",
    "for x in d:\n",
    "    print(','.join([str(v) for v in x.values()]))"
   ]
  }
 ],
 "metadata": {
  "kernelspec": {
   "display_name": "venv",
   "language": "python",
   "name": "python3"
  },
  "language_info": {
   "codemirror_mode": {
    "name": "ipython",
    "version": 3
   },
   "file_extension": ".py",
   "mimetype": "text/x-python",
   "name": "python",
   "nbconvert_exporter": "python",
   "pygments_lexer": "ipython3",
   "version": "3.12.6"
  }
 },
 "nbformat": 4,
 "nbformat_minor": 2
}
